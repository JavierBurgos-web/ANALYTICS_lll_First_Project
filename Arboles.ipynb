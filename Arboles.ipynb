{
 "cells": [
  {
   "cell_type": "code",
   "execution_count": 1,
   "metadata": {},
   "outputs": [],
   "source": [
    "### Cargar paquetes\n",
    "import pandas as pd ### para manejo de datos\n",
    "import sqlite3 as sql\n",
    "import Funciones as funciones  ###archivo de funciones profe\n",
    "from sklearn import linear_model ## para regresión lineal\n",
    "from sklearn import tree ###para ajustar arboles de decisión\n",
    "from sklearn.ensemble import RandomForestRegressor ##Ensamble con bagging\n",
    "from sklearn.ensemble import GradientBoostingRegressor ###Ensamble boosting\n",
    "from sklearn.model_selection import cross_val_predict, cross_val_score, cross_validate\n",
    "from sklearn.metrics import mean_squared_error\n",
    "from sklearn import metrics\n",
    "\n",
    "import numpy as np\n",
    "import matplotlib.pyplot as plt ### gráficos\n",
    "from sklearn.model_selection import RandomizedSearchCV\n",
    "import joblib  ### para guardar modelos\n",
    "from sklearn.preprocessing import StandardScaler ## escalar variables "
   ]
  },
  {
   "cell_type": "code",
   "execution_count": 2,
   "metadata": {},
   "outputs": [
    {
     "name": "stdout",
     "output_type": "stream",
     "text": [
      "<class 'pandas.core.frame.DataFrame'>\n",
      "RangeIndex: 4410 entries, 0 to 4409\n",
      "Data columns (total 28 columns):\n",
      " #   Column                   Non-Null Count  Dtype  \n",
      "---  ------                   --------------  -----  \n",
      " 0   Age                      4410 non-null   int64  \n",
      " 1   BusinessTravel           4410 non-null   object \n",
      " 2   Department               4410 non-null   object \n",
      " 3   DistanceFromHome         4410 non-null   int64  \n",
      " 4   Education                4410 non-null   int64  \n",
      " 5   EducationField           4410 non-null   object \n",
      " 6   EmployeeID               4410 non-null   int64  \n",
      " 7   Gender                   4410 non-null   object \n",
      " 8   JobLevel                 4410 non-null   int64  \n",
      " 9   JobRole                  4410 non-null   object \n",
      " 10  MaritalStatus            4410 non-null   object \n",
      " 11  MonthlyIncome            4410 non-null   int64  \n",
      " 12  NumCompaniesWorked       4410 non-null   float64\n",
      " 13  PercentSalaryHike        4410 non-null   int64  \n",
      " 14  StockOptionLevel         4410 non-null   int64  \n",
      " 15  TotalWorkingYears        4410 non-null   float64\n",
      " 16  TrainingTimesLastYear    4410 non-null   int64  \n",
      " 17  YearsAtCompany           4410 non-null   int64  \n",
      " 18  YearsSinceLastPromotion  4410 non-null   int64  \n",
      " 19  YearsWithCurrManager     4410 non-null   int64  \n",
      " 20  EnvironmentSatisfaction  4410 non-null   float64\n",
      " 21  JobSatisfaction          4410 non-null   float64\n",
      " 22  WorkLifeBalance          4410 non-null   float64\n",
      " 23  JobInvolvement           4410 non-null   int64  \n",
      " 24  PerformanceRating        4410 non-null   int64  \n",
      " 25  Attrition                4410 non-null   int64  \n",
      " 26  retirementDate           4410 non-null   object \n",
      " 27  resignationReason        4410 non-null   object \n",
      "dtypes: float64(5), int64(15), object(8)\n",
      "memory usage: 964.8+ KB\n"
     ]
    }
   ],
   "source": [
    "#Traer base de datos\n",
    "df_final=(\"DATA/df_final.csv\")  \n",
    "df_final=pd.read_csv(df_final)\n",
    "### Selección de variables ###\n",
    "df = df_final.copy()\n",
    "df.info()"
   ]
  },
  {
   "cell_type": "code",
   "execution_count": 3,
   "metadata": {},
   "outputs": [],
   "source": [
    "df=df.drop(columns=[\"retirementDate\"])"
   ]
  },
  {
   "cell_type": "code",
   "execution_count": 4,
   "metadata": {},
   "outputs": [
    {
     "name": "stdout",
     "output_type": "stream",
     "text": [
      "<class 'pandas.core.frame.DataFrame'>\n",
      "RangeIndex: 4410 entries, 0 to 4409\n",
      "Data columns (total 7 columns):\n",
      " #   Column             Non-Null Count  Dtype \n",
      "---  ------             --------------  ----- \n",
      " 0   BusinessTravel     4410 non-null   object\n",
      " 1   Department         4410 non-null   object\n",
      " 2   Gender             4410 non-null   object\n",
      " 3   JobRole            4410 non-null   object\n",
      " 4   MaritalStatus      4410 non-null   object\n",
      " 5   EducationField     4410 non-null   object\n",
      " 6   resignationReason  4410 non-null   object\n",
      "dtypes: object(7)\n",
      "memory usage: 241.3+ KB\n",
      "<class 'pandas.core.frame.DataFrame'>\n",
      "RangeIndex: 4410 entries, 0 to 4409\n",
      "Data columns (total 20 columns):\n",
      " #   Column                   Non-Null Count  Dtype  \n",
      "---  ------                   --------------  -----  \n",
      " 0   Age                      4410 non-null   float64\n",
      " 1   DistanceFromHome         4410 non-null   float64\n",
      " 2   Education                4410 non-null   float64\n",
      " 3   EmployeeID               4410 non-null   float64\n",
      " 4   JobLevel                 4410 non-null   float64\n",
      " 5   MonthlyIncome            4410 non-null   float64\n",
      " 6   NumCompaniesWorked       4410 non-null   float64\n",
      " 7   PercentSalaryHike        4410 non-null   float64\n",
      " 8   StockOptionLevel         4410 non-null   float64\n",
      " 9   TotalWorkingYears        4410 non-null   float64\n",
      " 10  TrainingTimesLastYear    4410 non-null   float64\n",
      " 11  YearsAtCompany           4410 non-null   float64\n",
      " 12  YearsSinceLastPromotion  4410 non-null   float64\n",
      " 13  YearsWithCurrManager     4410 non-null   float64\n",
      " 14  EnvironmentSatisfaction  4410 non-null   float64\n",
      " 15  JobSatisfaction          4410 non-null   float64\n",
      " 16  WorkLifeBalance          4410 non-null   float64\n",
      " 17  JobInvolvement           4410 non-null   float64\n",
      " 18  PerformanceRating        4410 non-null   float64\n",
      " 19  Attrition                4410 non-null   float64\n",
      "dtypes: float64(20)\n",
      "memory usage: 689.2 KB\n",
      "<class 'pandas.core.frame.DataFrame'>\n",
      "RangeIndex: 4410 entries, 0 to 4409\n",
      "Data columns (total 27 columns):\n",
      " #   Column                   Non-Null Count  Dtype  \n",
      "---  ------                   --------------  -----  \n",
      " 0   Age                      4410 non-null   float64\n",
      " 1   DistanceFromHome         4410 non-null   float64\n",
      " 2   Education                4410 non-null   float64\n",
      " 3   EmployeeID               4410 non-null   float64\n",
      " 4   JobLevel                 4410 non-null   float64\n",
      " 5   MonthlyIncome            4410 non-null   float64\n",
      " 6   NumCompaniesWorked       4410 non-null   float64\n",
      " 7   PercentSalaryHike        4410 non-null   float64\n",
      " 8   StockOptionLevel         4410 non-null   float64\n",
      " 9   TotalWorkingYears        4410 non-null   float64\n",
      " 10  TrainingTimesLastYear    4410 non-null   float64\n",
      " 11  YearsAtCompany           4410 non-null   float64\n",
      " 12  YearsSinceLastPromotion  4410 non-null   float64\n",
      " 13  YearsWithCurrManager     4410 non-null   float64\n",
      " 14  EnvironmentSatisfaction  4410 non-null   float64\n",
      " 15  JobSatisfaction          4410 non-null   float64\n",
      " 16  WorkLifeBalance          4410 non-null   float64\n",
      " 17  JobInvolvement           4410 non-null   float64\n",
      " 18  PerformanceRating        4410 non-null   float64\n",
      " 19  Attrition                4410 non-null   float64\n",
      " 20  BusinessTravel           4410 non-null   object \n",
      " 21  Department               4410 non-null   object \n",
      " 22  Gender                   4410 non-null   object \n",
      " 23  JobRole                  4410 non-null   object \n",
      " 24  MaritalStatus            4410 non-null   object \n",
      " 25  EducationField           4410 non-null   object \n",
      " 26  resignationReason        4410 non-null   object \n",
      "dtypes: float64(20), object(7)\n",
      "memory usage: 930.4+ KB\n"
     ]
    }
   ],
   "source": [
    "#### imputación para variables categóricas y numéricas\n",
    "##se separan columnas categóricas o que se quieran tratar así de las numéricas\n",
    "\n",
    "list_cat=['BusinessTravel', 'Department', 'Gender', \n",
    "          'JobRole', 'MaritalStatus', 'EducationField', 'resignationReason']\n",
    "\n",
    "df1=funciones.imputar_f(df,list_cat)\n",
    "df1.info()"
   ]
  },
  {
   "cell_type": "code",
   "execution_count": 5,
   "metadata": {},
   "outputs": [
    {
     "name": "stdout",
     "output_type": "stream",
     "text": [
      "<class 'pandas.core.frame.DataFrame'>\n",
      "RangeIndex: 4410 entries, 0 to 4409\n",
      "Data columns (total 50 columns):\n",
      " #   Column                             Non-Null Count  Dtype  \n",
      "---  ------                             --------------  -----  \n",
      " 0   Age                                4410 non-null   float64\n",
      " 1   DistanceFromHome                   4410 non-null   float64\n",
      " 2   Education                          4410 non-null   float64\n",
      " 3   EmployeeID                         4410 non-null   float64\n",
      " 4   JobLevel                           4410 non-null   float64\n",
      " 5   MonthlyIncome                      4410 non-null   float64\n",
      " 6   NumCompaniesWorked                 4410 non-null   float64\n",
      " 7   PercentSalaryHike                  4410 non-null   float64\n",
      " 8   StockOptionLevel                   4410 non-null   float64\n",
      " 9   TotalWorkingYears                  4410 non-null   float64\n",
      " 10  TrainingTimesLastYear              4410 non-null   float64\n",
      " 11  YearsAtCompany                     4410 non-null   float64\n",
      " 12  YearsSinceLastPromotion            4410 non-null   float64\n",
      " 13  YearsWithCurrManager               4410 non-null   float64\n",
      " 14  EnvironmentSatisfaction            4410 non-null   float64\n",
      " 15  JobSatisfaction                    4410 non-null   float64\n",
      " 16  WorkLifeBalance                    4410 non-null   float64\n",
      " 17  JobInvolvement                     4410 non-null   float64\n",
      " 18  PerformanceRating                  4410 non-null   float64\n",
      " 19  Attrition                          4410 non-null   float64\n",
      " 20  BusinessTravel_Non-Travel          4410 non-null   bool   \n",
      " 21  BusinessTravel_Travel_Frequently   4410 non-null   bool   \n",
      " 22  BusinessTravel_Travel_Rarely       4410 non-null   bool   \n",
      " 23  Department_Human Resources         4410 non-null   bool   \n",
      " 24  Department_Research & Development  4410 non-null   bool   \n",
      " 25  Department_Sales                   4410 non-null   bool   \n",
      " 26  Gender_Female                      4410 non-null   bool   \n",
      " 27  Gender_Male                        4410 non-null   bool   \n",
      " 28  JobRole_Healthcare Representative  4410 non-null   bool   \n",
      " 29  JobRole_Human Resources            4410 non-null   bool   \n",
      " 30  JobRole_Laboratory Technician      4410 non-null   bool   \n",
      " 31  JobRole_Manager                    4410 non-null   bool   \n",
      " 32  JobRole_Manufacturing Director     4410 non-null   bool   \n",
      " 33  JobRole_Research Director          4410 non-null   bool   \n",
      " 34  JobRole_Research Scientist         4410 non-null   bool   \n",
      " 35  JobRole_Sales Executive            4410 non-null   bool   \n",
      " 36  JobRole_Sales Representative       4410 non-null   bool   \n",
      " 37  MaritalStatus_Divorced             4410 non-null   bool   \n",
      " 38  MaritalStatus_Married              4410 non-null   bool   \n",
      " 39  MaritalStatus_Single               4410 non-null   bool   \n",
      " 40  EducationField_Human Resources     4410 non-null   bool   \n",
      " 41  EducationField_Life Sciences       4410 non-null   bool   \n",
      " 42  EducationField_Marketing           4410 non-null   bool   \n",
      " 43  EducationField_Medical             4410 non-null   bool   \n",
      " 44  EducationField_Other               4410 non-null   bool   \n",
      " 45  EducationField_Technical Degree    4410 non-null   bool   \n",
      " 46  resignationReason_NoRetirement     4410 non-null   bool   \n",
      " 47  resignationReason_Others           4410 non-null   bool   \n",
      " 48  resignationReason_Salary           4410 non-null   bool   \n",
      " 49  resignationReason_Stress           4410 non-null   bool   \n",
      "dtypes: bool(30), float64(20)\n",
      "memory usage: 818.4 KB\n"
     ]
    }
   ],
   "source": [
    "# convertir las variables categoricas en dummies\n",
    "list_dummies=['BusinessTravel', 'Department', 'Gender', \n",
    "          'JobRole', 'MaritalStatus', 'EducationField', 'resignationReason']\n",
    "\n",
    "\n",
    "df_dummies=pd.get_dummies(df1,columns=list_dummies)\n",
    "df_dummies.info()"
   ]
  },
  {
   "cell_type": "code",
   "execution_count": 6,
   "metadata": {},
   "outputs": [
    {
     "data": {
      "text/plain": [
       "(7,)"
      ]
     },
     "execution_count": 6,
     "metadata": {},
     "output_type": "execute_result"
    }
   ],
   "source": [
    "y=df_dummies.Attrition\n",
    "X1= df_dummies.loc[:,~df_dummies.columns.isin(['Attrition','EmployeeID'])]\n",
    "\n",
    "scaler=StandardScaler()\n",
    "scaler.fit(X1)\n",
    "X2=scaler.transform(X1)\n",
    "X=pd.DataFrame(X2,columns=X1.columns)\n",
    "\n",
    "m_lreg = linear_model.LinearRegression()\n",
    "m_rtree=tree.DecisionTreeRegressor()\n",
    "m_rf= RandomForestRegressor()\n",
    "m_gbt=GradientBoostingRegressor()\n",
    "\n",
    "modelos=list([m_lreg,m_rtree, m_rf, m_gbt])\n",
    "\n",
    "var_names=funciones.sel_variables(modelos,X,y,threshold=\"2.5*mean\") #No funciona con Vector machine\n",
    "var_names.shape"
   ]
  },
  {
   "cell_type": "code",
   "execution_count": 7,
   "metadata": {},
   "outputs": [
    {
     "name": "stdout",
     "output_type": "stream",
     "text": [
      "<class 'pandas.core.frame.DataFrame'>\n",
      "RangeIndex: 4410 entries, 0 to 4409\n",
      "Data columns (total 7 columns):\n",
      " #   Column                            Non-Null Count  Dtype  \n",
      "---  ------                            --------------  -----  \n",
      " 0   BusinessTravel_Travel_Frequently  4410 non-null   float64\n",
      " 1   BusinessTravel_Travel_Rarely      4410 non-null   float64\n",
      " 2   EducationField_Life Sciences      4410 non-null   float64\n",
      " 3   EducationField_Marketing          4410 non-null   float64\n",
      " 4   EducationField_Medical            4410 non-null   float64\n",
      " 5   EducationField_Technical Degree   4410 non-null   float64\n",
      " 6   resignationReason_NoRetirement    4410 non-null   float64\n",
      "dtypes: float64(7)\n",
      "memory usage: 241.3 KB\n"
     ]
    }
   ],
   "source": [
    "X2=X[var_names] \n",
    "X2.info()\n"
   ]
  },
  {
   "cell_type": "code",
   "execution_count": 8,
   "metadata": {},
   "outputs": [
    {
     "name": "stdout",
     "output_type": "stream",
     "text": [
      "<class 'pandas.core.frame.DataFrame'>\n",
      "RangeIndex: 4410 entries, 0 to 4409\n",
      "Data columns (total 48 columns):\n",
      " #   Column                             Non-Null Count  Dtype  \n",
      "---  ------                             --------------  -----  \n",
      " 0   Age                                4410 non-null   float64\n",
      " 1   DistanceFromHome                   4410 non-null   float64\n",
      " 2   Education                          4410 non-null   float64\n",
      " 3   JobLevel                           4410 non-null   float64\n",
      " 4   MonthlyIncome                      4410 non-null   float64\n",
      " 5   NumCompaniesWorked                 4410 non-null   float64\n",
      " 6   PercentSalaryHike                  4410 non-null   float64\n",
      " 7   StockOptionLevel                   4410 non-null   float64\n",
      " 8   TotalWorkingYears                  4410 non-null   float64\n",
      " 9   TrainingTimesLastYear              4410 non-null   float64\n",
      " 10  YearsAtCompany                     4410 non-null   float64\n",
      " 11  YearsSinceLastPromotion            4410 non-null   float64\n",
      " 12  YearsWithCurrManager               4410 non-null   float64\n",
      " 13  EnvironmentSatisfaction            4410 non-null   float64\n",
      " 14  JobSatisfaction                    4410 non-null   float64\n",
      " 15  WorkLifeBalance                    4410 non-null   float64\n",
      " 16  JobInvolvement                     4410 non-null   float64\n",
      " 17  PerformanceRating                  4410 non-null   float64\n",
      " 18  BusinessTravel_Non-Travel          4410 non-null   float64\n",
      " 19  BusinessTravel_Travel_Frequently   4410 non-null   float64\n",
      " 20  BusinessTravel_Travel_Rarely       4410 non-null   float64\n",
      " 21  Department_Human Resources         4410 non-null   float64\n",
      " 22  Department_Research & Development  4410 non-null   float64\n",
      " 23  Department_Sales                   4410 non-null   float64\n",
      " 24  Gender_Female                      4410 non-null   float64\n",
      " 25  Gender_Male                        4410 non-null   float64\n",
      " 26  JobRole_Healthcare Representative  4410 non-null   float64\n",
      " 27  JobRole_Human Resources            4410 non-null   float64\n",
      " 28  JobRole_Laboratory Technician      4410 non-null   float64\n",
      " 29  JobRole_Manager                    4410 non-null   float64\n",
      " 30  JobRole_Manufacturing Director     4410 non-null   float64\n",
      " 31  JobRole_Research Director          4410 non-null   float64\n",
      " 32  JobRole_Research Scientist         4410 non-null   float64\n",
      " 33  JobRole_Sales Executive            4410 non-null   float64\n",
      " 34  JobRole_Sales Representative       4410 non-null   float64\n",
      " 35  MaritalStatus_Divorced             4410 non-null   float64\n",
      " 36  MaritalStatus_Married              4410 non-null   float64\n",
      " 37  MaritalStatus_Single               4410 non-null   float64\n",
      " 38  EducationField_Human Resources     4410 non-null   float64\n",
      " 39  EducationField_Life Sciences       4410 non-null   float64\n",
      " 40  EducationField_Marketing           4410 non-null   float64\n",
      " 41  EducationField_Medical             4410 non-null   float64\n",
      " 42  EducationField_Other               4410 non-null   float64\n",
      " 43  EducationField_Technical Degree    4410 non-null   float64\n",
      " 44  resignationReason_NoRetirement     4410 non-null   float64\n",
      " 45  resignationReason_Others           4410 non-null   float64\n",
      " 46  resignationReason_Salary           4410 non-null   float64\n",
      " 47  resignationReason_Stress           4410 non-null   float64\n",
      "dtypes: float64(48)\n",
      "memory usage: 1.6 MB\n"
     ]
    }
   ],
   "source": [
    "X.info()"
   ]
  },
  {
   "cell_type": "code",
   "execution_count": 9,
   "metadata": {},
   "outputs": [],
   "source": [
    "rmse_df=funciones.medir_modelos(modelos,\"neg_root_mean_squared_error\",X,y,4) ## base con todas las variables #4: Número de grupos en que va a separar los datos para realizar el cross validation\n",
    "rmse_varsel=funciones.medir_modelos(modelos,\"neg_root_mean_squared_error\",X2,y,4) ### base con variables seleccionadas"
   ]
  },
  {
   "cell_type": "code",
   "execution_count": 10,
   "metadata": {},
   "outputs": [
    {
     "data": {
      "text/html": [
       "<div>\n",
       "<style scoped>\n",
       "    .dataframe tbody tr th:only-of-type {\n",
       "        vertical-align: middle;\n",
       "    }\n",
       "\n",
       "    .dataframe tbody tr th {\n",
       "        vertical-align: top;\n",
       "    }\n",
       "\n",
       "    .dataframe thead th {\n",
       "        text-align: right;\n",
       "    }\n",
       "</style>\n",
       "<table border=\"1\" class=\"dataframe\">\n",
       "  <thead>\n",
       "    <tr style=\"text-align: right;\">\n",
       "      <th></th>\n",
       "      <th>rl</th>\n",
       "      <th>dt</th>\n",
       "      <th>rf</th>\n",
       "      <th>gb</th>\n",
       "      <th>rl_Sel</th>\n",
       "      <th>dt_sel</th>\n",
       "      <th>rf_sel</th>\n",
       "      <th>gb_Sel</th>\n",
       "    </tr>\n",
       "  </thead>\n",
       "  <tbody>\n",
       "    <tr>\n",
       "      <th>0</th>\n",
       "      <td>-0.129120</td>\n",
       "      <td>-0.116616</td>\n",
       "      <td>-0.109016</td>\n",
       "      <td>-0.122890</td>\n",
       "      <td>-0.129921</td>\n",
       "      <td>-0.130674</td>\n",
       "      <td>-0.130668</td>\n",
       "      <td>-0.130490</td>\n",
       "    </tr>\n",
       "    <tr>\n",
       "      <th>1</th>\n",
       "      <td>-0.111500</td>\n",
       "      <td>-0.095217</td>\n",
       "      <td>-0.089326</td>\n",
       "      <td>-0.104518</td>\n",
       "      <td>-0.111802</td>\n",
       "      <td>-0.111908</td>\n",
       "      <td>-0.111849</td>\n",
       "      <td>-0.111879</td>\n",
       "    </tr>\n",
       "    <tr>\n",
       "      <th>2</th>\n",
       "      <td>-0.138277</td>\n",
       "      <td>-0.124203</td>\n",
       "      <td>-0.123219</td>\n",
       "      <td>-0.132761</td>\n",
       "      <td>-0.139635</td>\n",
       "      <td>-0.139764</td>\n",
       "      <td>-0.139744</td>\n",
       "      <td>-0.139661</td>\n",
       "    </tr>\n",
       "    <tr>\n",
       "      <th>3</th>\n",
       "      <td>-0.117274</td>\n",
       "      <td>-0.104352</td>\n",
       "      <td>-0.104870</td>\n",
       "      <td>-0.114125</td>\n",
       "      <td>-0.116066</td>\n",
       "      <td>-0.116227</td>\n",
       "      <td>-0.116175</td>\n",
       "      <td>-0.116170</td>\n",
       "    </tr>\n",
       "  </tbody>\n",
       "</table>\n",
       "</div>"
      ],
      "text/plain": [
       "         rl        dt        rf        gb    rl_Sel    dt_sel    rf_sel  \\\n",
       "0 -0.129120 -0.116616 -0.109016 -0.122890 -0.129921 -0.130674 -0.130668   \n",
       "1 -0.111500 -0.095217 -0.089326 -0.104518 -0.111802 -0.111908 -0.111849   \n",
       "2 -0.138277 -0.124203 -0.123219 -0.132761 -0.139635 -0.139764 -0.139744   \n",
       "3 -0.117274 -0.104352 -0.104870 -0.114125 -0.116066 -0.116227 -0.116175   \n",
       "\n",
       "     gb_Sel  \n",
       "0 -0.130490  \n",
       "1 -0.111879  \n",
       "2 -0.139661  \n",
       "3 -0.116170  "
      ]
     },
     "execution_count": 10,
     "metadata": {},
     "output_type": "execute_result"
    }
   ],
   "source": [
    "rmse=pd.concat([rmse_df,rmse_varsel],axis=1)\n",
    "rmse.columns=['rl', 'dt', 'rf', 'gb',\n",
    "       'rl_Sel', 'dt_sel', 'rf_sel', 'gb_Sel']\n",
    "rmse"
   ]
  },
  {
   "cell_type": "code",
   "execution_count": 11,
   "metadata": {},
   "outputs": [
    {
     "data": {
      "text/plain": [
       "<Axes: >"
      ]
     },
     "execution_count": 11,
     "metadata": {},
     "output_type": "execute_result"
    },
    {
     "data": {
      "image/png": "[encoded data removed]",
      "text/plain": [
       "<Figure size 640x480 with 1 Axes>"
      ]
     },
     "metadata": {},
     "output_type": "display_data"
    },
    {
     "data": {
      "image/png": "[encoded data removed]",
      "text/plain": [
       "<Figure size 640x480 with 1 Axes>"
      ]
     },
     "metadata": {},
     "output_type": "display_data"
    },
    {
     "data": {
      "image/png": "[encoded data removed]",
      "text/plain": [
       "<Figure size 640x480 with 1 Axes>"
      ]
     },
     "metadata": {},
     "output_type": "display_data"
    }
   ],
   "source": [
    "rmse_df.plot(kind='box') #### gráfico para modelos todas las varibles\n",
    "rmse_varsel.plot(kind='box') ### gráfico para modelo variables seleccionadas\n",
    "rmse.plot(kind='box') ### gráfico para modelos sel y todas las variables"
   ]
  },
  {
   "cell_type": "code",
   "execution_count": 12,
   "metadata": {},
   "outputs": [
    {
     "data": {
      "text/plain": [
       "<Axes: >"
      ]
     },
     "execution_count": 12,
     "metadata": {},
     "output_type": "execute_result"
    },
    {
     "data": {
      "image/png": "[encoded data removed]",
      "text/plain": [
       "<Figure size 640x480 with 1 Axes>"
      ]
     },
     "metadata": {},
     "output_type": "display_data"
    }
   ],
   "source": [
    "\n",
    "rmse2=rmse[ ['dt', 'rf', 'gb','rl_Sel', 'dt_sel', 'rf_sel', 'gb_Sel']]\n",
    "rmse2.plot(kind='box') ### gráfico para modelos sel y todas las variables\n"
   ]
  },
  {
   "cell_type": "code",
   "execution_count": 31,
   "metadata": {},
   "outputs": [],
   "source": [
    "param_grid = [{'n_estimators': [3, 500, 100], 'max_features': [5,20],\n",
    "               'min_samples_split': [100, 20, 5]}]\n",
    "\n",
    "tun_rf=RandomizedSearchCV(m_rf,param_distributions=param_grid,n_iter=6,scoring=\"neg_root_mean_squared_error\")\n",
    "tun_rf.fit(X2,y)\n",
    "### se comenta porque toma mucho tiempo en ejecutar\n",
    "\n",
    "pd.set_option('display.max_colwidth', 100)\n",
    "resultados=tun_rf.cv_results_\n",
    "tun_rf.best_params_\n",
    "pd_resultados=pd.DataFrame(resultados)\n",
    "pd_resultados[[\"params\",\"mean_test_score\"]].sort_values(by=\"mean_test_score\", ascending=False)\n",
    "\n",
    "rf_final=tun_rf.best_estimator_ ### Guardar el modelo con hyperparameter tunning\n",
    "m_lreg=m_rtree.fit(X2,y)"
   ]
  },
  {
   "cell_type": "code",
   "execution_count": 39,
   "metadata": {},
   "outputs": [
    {
     "name": "stdout",
     "output_type": "stream",
     "text": [
      "{'min_samples_split': 10, 'min_samples_leaf': 20, 'max_depth': 5}\n"
     ]
    },
    {
     "data": {
      "text/html": [
       "<div>\n",
       "<style scoped>\n",
       "    .dataframe tbody tr th:only-of-type {\n",
       "        vertical-align: middle;\n",
       "    }\n",
       "\n",
       "    .dataframe tbody tr th {\n",
       "        vertical-align: top;\n",
       "    }\n",
       "\n",
       "    .dataframe thead th {\n",
       "        text-align: right;\n",
       "    }\n",
       "</style>\n",
       "<table border=\"1\" class=\"dataframe\">\n",
       "  <thead>\n",
       "    <tr style=\"text-align: right;\">\n",
       "      <th></th>\n",
       "      <th>params</th>\n",
       "      <th>mean_test_score</th>\n",
       "    </tr>\n",
       "  </thead>\n",
       "  <tbody>\n",
       "    <tr>\n",
       "      <th>0</th>\n",
       "      <td>{'min_samples_split': 10, 'min_samples_leaf': 20, 'max_depth': 5}</td>\n",
       "      <td>-0.123831</td>\n",
       "    </tr>\n",
       "    <tr>\n",
       "      <th>1</th>\n",
       "      <td>{'min_samples_split': 2, 'min_samples_leaf': 1, 'max_depth': 7}</td>\n",
       "      <td>-0.123857</td>\n",
       "    </tr>\n",
       "    <tr>\n",
       "      <th>2</th>\n",
       "      <td>{'min_samples_split': 2, 'min_samples_leaf': 1, 'max_depth': 11}</td>\n",
       "      <td>-0.123857</td>\n",
       "    </tr>\n",
       "    <tr>\n",
       "      <th>3</th>\n",
       "      <td>{'min_samples_split': 2, 'min_samples_leaf': 20, 'max_depth': 5}</td>\n",
       "      <td>-0.123831</td>\n",
       "    </tr>\n",
       "    <tr>\n",
       "      <th>4</th>\n",
       "      <td>{'min_samples_split': 20, 'min_samples_leaf': 10, 'max_depth': 5}</td>\n",
       "      <td>-0.123831</td>\n",
       "    </tr>\n",
       "    <tr>\n",
       "      <th>5</th>\n",
       "      <td>{'min_samples_split': 2, 'min_samples_leaf': 10, 'max_depth': 7}</td>\n",
       "      <td>-0.123857</td>\n",
       "    </tr>\n",
       "  </tbody>\n",
       "</table>\n",
       "</div>"
      ],
      "text/plain": [
       "                                                              params  \\\n",
       "0  {'min_samples_split': 10, 'min_samples_leaf': 20, 'max_depth': 5}   \n",
       "1    {'min_samples_split': 2, 'min_samples_leaf': 1, 'max_depth': 7}   \n",
       "2   {'min_samples_split': 2, 'min_samples_leaf': 1, 'max_depth': 11}   \n",
       "3   {'min_samples_split': 2, 'min_samples_leaf': 20, 'max_depth': 5}   \n",
       "4  {'min_samples_split': 20, 'min_samples_leaf': 10, 'max_depth': 5}   \n",
       "5   {'min_samples_split': 2, 'min_samples_leaf': 10, 'max_depth': 7}   \n",
       "\n",
       "   mean_test_score  \n",
       "0        -0.123831  \n",
       "1        -0.123857  \n",
       "2        -0.123857  \n",
       "3        -0.123831  \n",
       "4        -0.123831  \n",
       "5        -0.123857  "
      ]
     },
     "metadata": {},
     "output_type": "display_data"
    }
   ],
   "source": [
    "param_grid = [{'max_depth': [3, 5, 7, 9, 11, None], \n",
    "               'min_samples_split': [2, 5, 10, 20], \n",
    "               'min_samples_leaf': [1, 5, 10, 20]}]\n",
    "\n",
    "tun_rtree = RandomizedSearchCV(m_rtree, param_distributions=param_grid, n_iter=6, scoring=\"neg_root_mean_squared_error\")\n",
    "tun_rtree.fit(X2, y)\n",
    "\n",
    "pd.set_option('display.max_colwidth', 100)\n",
    "resultados = tun_rtree.cv_results_\n",
    "print(tun_rtree.best_params_)\n",
    "pd_resultados = pd.DataFrame(resultados)\n",
    "display(pd_resultados[[\"params\", \"mean_test_score\"]])\n",
    "rtree_final = tun_rtree.best_estimator_"
   ]
  },
  {
   "cell_type": "code",
   "execution_count": 40,
   "metadata": {},
   "outputs": [
    {
     "name": "stdout",
     "output_type": "stream",
     "text": [
      "True\n",
      "True\n"
     ]
    }
   ],
   "source": [
    "joblib.dump(rf_final, \"salidas\\\\rf_final.pkl\") ## \n",
    "joblib.dump(m_lreg, \"salidas\\\\m_lreg.pkl\") ## \n",
    "joblib.dump(rtree_final, \"salidas\\\\rtree_final.pkl\") ## \n",
    "joblib.dump(list_cat, \"salidas\\\\list_cat.pkl\") ### para realizar imputacion\n",
    "joblib.dump(list_dummies, \"salidas\\\\list_dummies.pkl\")  ### para convertir a dummies\n",
    "joblib.dump(var_names, \"salidas\\\\var_names.pkl\")  ### para variables con que se entrena modelo\n",
    "joblib.dump(scaler, \"salidas\\\\scaler.pkl\") ## \n",
    "\n",
    "\n",
    "### funcion para cargar objeto guardado ###\n",
    "rf_final = joblib.load(\"salidas\\\\rf_final.pkl\")\n",
    "m_lreg = joblib.load(\"salidas\\\\m_lreg.pkl\")\n",
    "rtree_final = joblib.load(\"salidas\\\\rtree_final.pkl\")\n",
    "from sklearn.model_selection import cross_validate\n",
    "from sklearn.metrics import mean_squared_error\n",
    "\n",
    "list_cat=joblib.load(\"salidas\\\\list_cat.pkl\")\n",
    "list_dummies=joblib.load(\"salidas\\\\list_dummies.pkl\")\n",
    "var_names=joblib.load(\"salidas\\\\var_names.pkl\")\n",
    "scaler=joblib.load(\"salidas\\\\scaler.pkl\") \n",
    "\n",
    "print(hasattr(rf_final, 'fit'))  # Si es True, rf_final tiene un método fit\n",
    "print(hasattr(rtree_final, 'fit'))  # Si es True, m_lreg tiene un método fit"
   ]
  },
  {
   "cell_type": "code",
   "execution_count": 43,
   "metadata": {},
   "outputs": [],
   "source": [
    "eval2=cross_validate(rtree_final,X2,y,cv=5,scoring=\"neg_root_mean_squared_error\",return_train_score=True)"
   ]
  },
  {
   "cell_type": "code",
   "execution_count": 44,
   "metadata": {},
   "outputs": [],
   "source": [
    "eval=cross_validate(rf_final,X2,y,cv=5,scoring=\"neg_root_mean_squared_error\",return_train_score=True)\n"
   ]
  },
  {
   "cell_type": "code",
   "execution_count": 45,
   "metadata": {},
   "outputs": [],
   "source": [
    "#### convertir resultado de evaluacion entrenamiento y evaluacion en data frame para RF\n",
    "train_rf=pd.DataFrame(eval['train_score'])\n",
    "test_rf=pd.DataFrame(eval['test_score'])\n",
    "train_test_rf=pd.concat([train_rf, test_rf],axis=1)\n",
    "train_test_rf.columns=['train_score','test_score']\n",
    "\n",
    "#### convertir resultado de evaluacion entrenamiento y evaluacion en data frame para RL\n",
    "train_rl=pd.DataFrame(eval2['train_score'])\n",
    "test_rl=pd.DataFrame(eval2['test_score'])\n",
    "train_test_rl=pd.concat([train_rl, test_rl],axis=1)\n",
    "train_test_rl.columns=['train_score','test_score']"
   ]
  },
  {
   "cell_type": "code",
   "execution_count": 46,
   "metadata": {},
   "outputs": [
    {
     "data": {
      "text/plain": [
       "-0.123830805189414"
      ]
     },
     "execution_count": 46,
     "metadata": {},
     "output_type": "execute_result"
    }
   ],
   "source": [
    "train_test_rl[\"test_score\"].mean()"
   ]
  },
  {
   "cell_type": "code",
   "execution_count": 47,
   "metadata": {},
   "outputs": [
    {
     "data": {
      "text/plain": [
       "-0.12400079263818997"
      ]
     },
     "execution_count": 47,
     "metadata": {},
     "output_type": "execute_result"
    }
   ],
   "source": [
    "train_test_rf[\"test_score\"].mean()"
   ]
  },
  {
   "cell_type": "code",
   "execution_count": 48,
   "metadata": {},
   "outputs": [],
   "source": [
    "mse=mean_squared_error(df1['Attrition'], df1['Attrition'])\n",
    "rmse= mse**(0.5)"
   ]
  },
  {
   "cell_type": "code",
   "execution_count": 49,
   "metadata": {},
   "outputs": [
    {
     "data": {
      "text/plain": [
       "0.0"
      ]
     },
     "execution_count": 49,
     "metadata": {},
     "output_type": "execute_result"
    }
   ],
   "source": [
    "rmse"
   ]
  },
  {
   "cell_type": "code",
   "execution_count": 50,
   "metadata": {},
   "outputs": [
    {
     "data": {
      "image/png": "[encoded data removed]",
      "text/plain": [
       "<Figure size 640x480 with 1 Axes>"
      ]
     },
     "metadata": {},
     "output_type": "display_data"
    },
    {
     "data": {
      "image/png": "[encoded data removed]",
      "text/plain": [
       "<Figure size 640x480 with 1 Axes>"
      ]
     },
     "metadata": {},
     "output_type": "display_data"
    }
   ],
   "source": [
    "predictions=cross_val_predict(rtree_final,X2,y,cv=5)\n",
    "\n",
    "pred=pd.DataFrame(predictions,columns=['pred'])\n",
    "pdy=y.to_frame()\n",
    "error=pdy['Attrition']-pred['pred']\n",
    "\n",
    "error.hist(bins=50, grid=False)\n",
    "\n",
    "plt.boxplot(error,vert=False)\n",
    "plt.show()\n",
    "\n",
    "predictions2=cross_val_predict(rf_final,X2,y,cv=5)\n",
    "\n",
    "pred2=pd.DataFrame(predictions2,columns=['pred'])\n",
    "error2=pdy['Attrition']-pred2['pred']\n",
    "error2.hist(bins=50, grid=False)\n",
    "\n",
    "plt.boxplot(error2,vert=False)\n",
    "plt.show()"
   ]
  },
  {
   "cell_type": "code",
   "execution_count": 51,
   "metadata": {},
   "outputs": [],
   "source": [
    "pd.set_option('display.max_rows', 100)"
   ]
  },
  {
   "cell_type": "code",
   "execution_count": 55,
   "metadata": {},
   "outputs": [
    {
     "data": {
      "text/html": [
       "<div>\n",
       "<style scoped>\n",
       "    .dataframe tbody tr th:only-of-type {\n",
       "        vertical-align: middle;\n",
       "    }\n",
       "\n",
       "    .dataframe tbody tr th {\n",
       "        vertical-align: top;\n",
       "    }\n",
       "\n",
       "    .dataframe thead th {\n",
       "        text-align: right;\n",
       "    }\n",
       "</style>\n",
       "<table border=\"1\" class=\"dataframe\">\n",
       "  <thead>\n",
       "    <tr style=\"text-align: right;\">\n",
       "      <th></th>\n",
       "      <th>variable</th>\n",
       "      <th>peso</th>\n",
       "    </tr>\n",
       "  </thead>\n",
       "  <tbody>\n",
       "    <tr>\n",
       "      <th>6</th>\n",
       "      <td>resignationReason_NoRetirement</td>\n",
       "      <td>0.998924</td>\n",
       "    </tr>\n",
       "    <tr>\n",
       "      <th>0</th>\n",
       "      <td>BusinessTravel_Travel_Frequently</td>\n",
       "      <td>0.000307</td>\n",
       "    </tr>\n",
       "    <tr>\n",
       "      <th>4</th>\n",
       "      <td>EducationField_Medical</td>\n",
       "      <td>0.000222</td>\n",
       "    </tr>\n",
       "    <tr>\n",
       "      <th>5</th>\n",
       "      <td>EducationField_Technical Degree</td>\n",
       "      <td>0.000195</td>\n",
       "    </tr>\n",
       "    <tr>\n",
       "      <th>1</th>\n",
       "      <td>BusinessTravel_Travel_Rarely</td>\n",
       "      <td>0.000137</td>\n",
       "    </tr>\n",
       "    <tr>\n",
       "      <th>3</th>\n",
       "      <td>EducationField_Marketing</td>\n",
       "      <td>0.000111</td>\n",
       "    </tr>\n",
       "    <tr>\n",
       "      <th>2</th>\n",
       "      <td>EducationField_Life Sciences</td>\n",
       "      <td>0.000104</td>\n",
       "    </tr>\n",
       "  </tbody>\n",
       "</table>\n",
       "</div>"
      ],
      "text/plain": [
       "                           variable      peso\n",
       "6    resignationReason_NoRetirement  0.998924\n",
       "0  BusinessTravel_Travel_Frequently  0.000307\n",
       "4            EducationField_Medical  0.000222\n",
       "5   EducationField_Technical Degree  0.000195\n",
       "1      BusinessTravel_Travel_Rarely  0.000137\n",
       "3          EducationField_Marketing  0.000111\n",
       "2      EducationField_Life Sciences  0.000104"
      ]
     },
     "execution_count": 55,
     "metadata": {},
     "output_type": "execute_result"
    }
   ],
   "source": [
    "pd.set_option('display.max_rows', 100)\n",
    "importancia1=pd.DataFrame(rf_final.feature_names_in_)\n",
    "importancia2=pd.DataFrame(rf_final.feature_importances_)\n",
    "importancia=pd.concat([importancia1,importancia2],axis=1)\n",
    "importancia.columns=[\"variable\",\"peso\"]\n",
    "importancia.sort_values(by=[\"peso\"], ascending=False)"
   ]
  },
  {
   "cell_type": "code",
   "execution_count": 54,
   "metadata": {},
   "outputs": [
    {
     "data": {
      "text/html": [
       "<div>\n",
       "<style scoped>\n",
       "    .dataframe tbody tr th:only-of-type {\n",
       "        vertical-align: middle;\n",
       "    }\n",
       "\n",
       "    .dataframe tbody tr th {\n",
       "        vertical-align: top;\n",
       "    }\n",
       "\n",
       "    .dataframe thead th {\n",
       "        text-align: right;\n",
       "    }\n",
       "</style>\n",
       "<table border=\"1\" class=\"dataframe\">\n",
       "  <thead>\n",
       "    <tr style=\"text-align: right;\">\n",
       "      <th></th>\n",
       "      <th>variable</th>\n",
       "      <th>peso</th>\n",
       "    </tr>\n",
       "  </thead>\n",
       "  <tbody>\n",
       "    <tr>\n",
       "      <th>6</th>\n",
       "      <td>resignationReason_NoRetirement</td>\n",
       "      <td>0.999344</td>\n",
       "    </tr>\n",
       "    <tr>\n",
       "      <th>0</th>\n",
       "      <td>BusinessTravel_Travel_Frequently</td>\n",
       "      <td>0.000229</td>\n",
       "    </tr>\n",
       "    <tr>\n",
       "      <th>5</th>\n",
       "      <td>EducationField_Technical Degree</td>\n",
       "      <td>0.000152</td>\n",
       "    </tr>\n",
       "    <tr>\n",
       "      <th>4</th>\n",
       "      <td>EducationField_Medical</td>\n",
       "      <td>0.000127</td>\n",
       "    </tr>\n",
       "    <tr>\n",
       "      <th>1</th>\n",
       "      <td>BusinessTravel_Travel_Rarely</td>\n",
       "      <td>0.000080</td>\n",
       "    </tr>\n",
       "    <tr>\n",
       "      <th>2</th>\n",
       "      <td>EducationField_Life Sciences</td>\n",
       "      <td>0.000056</td>\n",
       "    </tr>\n",
       "    <tr>\n",
       "      <th>3</th>\n",
       "      <td>EducationField_Marketing</td>\n",
       "      <td>0.000013</td>\n",
       "    </tr>\n",
       "  </tbody>\n",
       "</table>\n",
       "</div>"
      ],
      "text/plain": [
       "                           variable      peso\n",
       "6    resignationReason_NoRetirement  0.999344\n",
       "0  BusinessTravel_Travel_Frequently  0.000229\n",
       "5   EducationField_Technical Degree  0.000152\n",
       "4            EducationField_Medical  0.000127\n",
       "1      BusinessTravel_Travel_Rarely  0.000080\n",
       "2      EducationField_Life Sciences  0.000056\n",
       "3          EducationField_Marketing  0.000013"
      ]
     },
     "execution_count": 54,
     "metadata": {},
     "output_type": "execute_result"
    }
   ],
   "source": [
    "pd.set_option('display.max_rows', 100)\n",
    "importancia1=pd.DataFrame(rtree_final.feature_names_in_)\n",
    "importancia2=pd.DataFrame(rtree_final.feature_importances_)\n",
    "importancia=pd.concat([importancia1,importancia2],axis=1)\n",
    "importancia.columns=[\"variable\",\"peso\"]\n",
    "importancia.sort_values('peso')\n",
    "importancia.sort_values(by=[\"peso\"], ascending=False)"
   ]
  },
  {
   "cell_type": "code",
   "execution_count": null,
   "metadata": {},
   "outputs": [],
   "source": []
  }
 ],
 "metadata": {
  "kernelspec": {
   "display_name": "Python 3",
   "language": "python",
   "name": "python3"
  },
  "language_info": {
   "codemirror_mode": {
    "name": "ipython",
    "version": 3
   },
   "file_extension": ".py",
   "mimetype": "text/x-python",
   "name": "python",
   "nbconvert_exporter": "python",
   "pygments_lexer": "ipython3",
   "version": "3.11.5"
  }
 },
 "nbformat": 4,
 "nbformat_minor": 2
}
